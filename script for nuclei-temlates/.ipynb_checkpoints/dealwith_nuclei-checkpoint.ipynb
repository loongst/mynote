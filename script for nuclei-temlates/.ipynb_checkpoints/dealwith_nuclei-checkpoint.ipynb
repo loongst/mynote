{
 "cells": [
  {
   "cell_type": "code",
   "execution_count": 1,
   "id": "21c1511a-51b0-4b18-9354-656707f3e27b",
   "metadata": {},
   "outputs": [
    {
     "data": {
      "text/plain": [
       "['.github',\n",
       " '.gitignore',\n",
       " '.new-additions',\n",
       " '.nuclei-ignore',\n",
       " '.pre-commit-config.yml',\n",
       " '.yamllint',\n",
       " 'cloud',\n",
       " 'code',\n",
       " 'CODE_OF_CONDUCT.md',\n",
       " 'CONTRIBUTING.md',\n",
       " 'contributors.json',\n",
       " 'cves.json',\n",
       " 'cves.json-checksum.txt',\n",
       " 'dast',\n",
       " 'dns',\n",
       " 'file',\n",
       " 'headless',\n",
       " 'helpers',\n",
       " 'http',\n",
       " 'javascript',\n",
       " 'LICENSE.md',\n",
       " 'network',\n",
       " 'passive',\n",
       " 'profiles',\n",
       " 'PULL_REQUEST_TEMPLATE.md',\n",
       " 'README.md',\n",
       " 'README_KR.md',\n",
       " 'ssl',\n",
       " 'templates-checksum.txt',\n",
       " 'TEMPLATES-STATS.json',\n",
       " 'TEMPLATES-STATS.md',\n",
       " 'TOP-10.md',\n",
       " 'wappalyzer-mapping.yml',\n",
       " 'workflows']"
      ]
     },
     "execution_count": 1,
     "metadata": {},
     "output_type": "execute_result"
    }
   ],
   "source": [
    "import os\n",
    "nuclei=os.listdir(\"nuclei-templates-9.9.0\")\n",
    "nuclei"
   ]
  },
  {
   "cell_type": "code",
   "execution_count": null,
   "id": "584ed06c-a2cb-4a93-80f3-cdd8541c6920",
   "metadata": {},
   "outputs": [],
   "source": [
    "import shutil\n"
   ]
  }
 ],
 "metadata": {
  "kernelspec": {
   "display_name": "Python 3 (ipykernel)",
   "language": "python",
   "name": "python3"
  },
  "language_info": {
   "codemirror_mode": {
    "name": "ipython",
    "version": 3
   },
   "file_extension": ".py",
   "mimetype": "text/x-python",
   "name": "python",
   "nbconvert_exporter": "python",
   "pygments_lexer": "ipython3",
   "version": "3.10.11"
  }
 },
 "nbformat": 4,
 "nbformat_minor": 5
}
