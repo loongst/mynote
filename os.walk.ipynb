{
 "cells": [
  {
   "cell_type": "code",
   "execution_count": 18,
   "id": "73211837-bcb7-4a33-897a-fc180b70c9a6",
   "metadata": {},
   "outputs": [],
   "source": [
    "import os"
   ]
  },
  {
   "cell_type": "code",
   "execution_count": 19,
   "id": "d5f0ac25-5b26-4fe1-8591-4131e2ac9242",
   "metadata": {},
   "outputs": [
    {
     "data": {
      "text/plain": [
       "['.git',\n",
       " '.ipynb_checkpoints',\n",
       " 'all.md',\n",
       " 'docker cis 2 chinese',\n",
       " 'os.walk.ipynb',\n",
       " 'py2hydro',\n",
       " 'README.md',\n",
       " 'replace_cftest',\n",
       " 'replace_cftest.zip',\n",
       " 'script for nuclei-temlates']"
      ]
     },
     "execution_count": 19,
     "metadata": {},
     "output_type": "execute_result"
    }
   ],
   "source": [
    "os.listdir()"
   ]
  },
  {
   "cell_type": "code",
   "execution_count": 23,
   "id": "d50b4add-bdf5-439e-aea9-20c4670c3010",
   "metadata": {},
   "outputs": [],
   "source": [
    "exclude_dirs=[\".git\",\"docker cis 2 chinese\",\"docker cis 2 chinese\",\"replace_cftest\",\"py2hydro\"]"
   ]
  },
  {
   "cell_type": "code",
   "execution_count": 26,
   "id": "0d690569-50c0-44e0-a028-ab1464409e6a",
   "metadata": {},
   "outputs": [
    {
     "data": {
      "text/plain": [
       "'D:\\\\github_repo\\\\mynote'"
      ]
     },
     "execution_count": 26,
     "metadata": {},
     "output_type": "execute_result"
    }
   ],
   "source": [
    "os.getcwd()"
   ]
  },
  {
   "cell_type": "code",
   "execution_count": 31,
   "id": "2db3a5f2-b0c3-48a6-97a0-b76ff60e53b5",
   "metadata": {},
   "outputs": [],
   "source": [
    "os.mkdir(\"./A/A3\")"
   ]
  },
  {
   "cell_type": "code",
   "execution_count": 49,
   "id": "c4741045-89a3-4e3a-af64-370f2948c8f4",
   "metadata": {},
   "outputs": [],
   "source": [
    "exclude_dirs=[\"A2\",\"A1\"]"
   ]
  },
  {
   "cell_type": "code",
   "execution_count": 52,
   "id": "82b37186-53a0-4c1a-96db-f5f135022780",
   "metadata": {},
   "outputs": [
    {
     "data": {
      "text/plain": [
       "['A3', 'ccc.txt']"
      ]
     },
     "execution_count": 52,
     "metadata": {},
     "output_type": "execute_result"
    }
   ],
   "source": [
    "os.listdir('D:\\\\github_repo\\\\mynote\\A')"
   ]
  },
  {
   "cell_type": "code",
   "execution_count": 51,
   "id": "9f06e0ef-de3c-4621-9f2d-75899af1f104",
   "metadata": {},
   "outputs": [
    {
     "name": "stdout",
     "output_type": "stream",
     "text": [
      "D:\\github_repo\\mynote\\A\\A1\n",
      "D:\\github_repo\\mynote\\A\\ccc.txt\n"
     ]
    }
   ],
   "source": [
    "import shutil\n",
    "for root,dirs,files in os.walk('D:\\\\github_repo\\\\mynote\\A'):\n",
    "    for dir in list(dirs):\n",
    "        # print(\"-\"*100)\n",
    "        # print(dir)\n",
    "        # print(exclude_dirs)\n",
    "        if dir in exclude_dirs:\n",
    "            dirs.remove(dir)\n",
    "            print(os.path.join(root,dir))\n",
    "            shutil.rmtree(os.path.join(root,dir))\n",
    "            # print(\"+\"*100)\n",
    "            continue\n",
    "            \n",
    "    for file in files:\n",
    "        print(os.path.join(root,file))"
   ]
  },
  {
   "cell_type": "code",
   "execution_count": null,
   "id": "e8cc6a19-4448-4e5f-a511-faf917622672",
   "metadata": {},
   "outputs": [],
   "source": []
  }
 ],
 "metadata": {
  "kernelspec": {
   "display_name": "Python 3 (ipykernel)",
   "language": "python",
   "name": "python3"
  },
  "language_info": {
   "codemirror_mode": {
    "name": "ipython",
    "version": 3
   },
   "file_extension": ".py",
   "mimetype": "text/x-python",
   "name": "python",
   "nbconvert_exporter": "python",
   "pygments_lexer": "ipython3",
   "version": "3.10.11"
  }
 },
 "nbformat": 4,
 "nbformat_minor": 5
}
